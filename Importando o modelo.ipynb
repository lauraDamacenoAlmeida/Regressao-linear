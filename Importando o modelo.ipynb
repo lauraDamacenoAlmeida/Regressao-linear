{
 "cells": [
  {
   "cell_type": "code",
   "execution_count": 3,
   "metadata": {},
   "outputs": [],
   "source": [
    "import pickle\n",
    "\n",
    "modelo = open('modelo_consumo_cerveja','rb')\n",
    "lm_new = pickle.load(modelo)\n",
    "modelo.close()\n",
    "\n",
    "#temp_max = 30.5\n",
    "#chuva = 12.2\n",
    "#fds = 0\n",
    "#entrada = [[temp_max,chuva,fds]]\n",
    "#print('{} litros'.format(lm_new.predict(entrada)[0]))"
   ]
  },
  {
   "cell_type": "markdown",
   "metadata": {},
   "source": [
    "## Simulador Interativo"
   ]
  },
  {
   "cell_type": "code",
   "execution_count": 10,
   "metadata": {},
   "outputs": [],
   "source": [
    "# Importando bibliotecas\n",
    "from ipywidgets import widgets, HBox, VBox #criar os componentes\n",
    "from IPython.display import display #mostrar o formulario\n",
    "\n",
    "# Criando os controles do formulário\n",
    "temp_max = widgets.Text(description=\"Temperatura Máxima\")\n",
    "chuva = widgets.Text(description=\"Chuva\")\n",
    "#fds = widgets.Text(description=\"Final de semana?\")\n",
    "fds = widgets.RadioButtons(options=['0', '1'], description=\"Final de semana?\")\n",
    "botao = widgets.Button(description=\"Simular\")\n",
    "\n",
    "# Posicionando os controles\n",
    "left = VBox([temp_max, chuva, fds])\n",
    "#rights = VBox([temp_max, chuva, fds])\n",
    "#inputs = HBox([left,rights])\n",
    "inputs = HBox([left])\n",
    "#HBOX ==> posicionar horizontalmente\n",
    "#VBOX => posicionar verticalmente\n",
    "\n",
    "# Função de simulação\n",
    "def simulador(sender):\n",
    "    entrada=[[\n",
    "        #como eles vem como string, transformo para float\n",
    "                float(temp_max.value if temp_max.value else 0), \n",
    "                float(chuva.value if chuva.value else 0), \n",
    "                float(fds.value if fds.value else 0)\n",
    "             ]]\n",
    "    print('$ {0:.2f}'.format(lm_new.predict(entrada)[0]))\n",
    "    \n",
    "# Atribuindo a função \"simulador\" ao evento click do botão\n",
    "botao.on_click(simulador)    "
   ]
  },
  {
   "cell_type": "code",
   "execution_count": 11,
   "metadata": {},
   "outputs": [
    {
     "data": {
      "application/vnd.jupyter.widget-view+json": {
       "model_id": "48dc177076fe4d68a9ef21410e1d8af1",
       "version_major": 2,
       "version_minor": 0
      },
      "text/plain": [
       "HBox(children=(VBox(children=(Text(value='', description='Temperatura Máxima'), Text(value='', description='Ch…"
      ]
     },
     "metadata": {},
     "output_type": "display_data"
    },
    {
     "data": {
      "application/vnd.jupyter.widget-view+json": {
       "model_id": "923d398535164d02aea3e73cd2f95e8a",
       "version_major": 2,
       "version_minor": 0
      },
      "text/plain": [
       "Button(description='Simular', style=ButtonStyle())"
      ]
     },
     "metadata": {},
     "output_type": "display_data"
    },
    {
     "name": "stdout",
     "output_type": "stream",
     "text": [
      "$ 28387.64\n",
      "$ 28326.86\n"
     ]
    }
   ],
   "source": [
    "display(inputs,botao)"
   ]
  },
  {
   "cell_type": "code",
   "execution_count": null,
   "metadata": {},
   "outputs": [],
   "source": []
  }
 ],
 "metadata": {
  "kernelspec": {
   "display_name": "Python 3",
   "language": "python",
   "name": "python3"
  },
  "language_info": {
   "codemirror_mode": {
    "name": "ipython",
    "version": 3
   },
   "file_extension": ".py",
   "mimetype": "text/x-python",
   "name": "python",
   "nbconvert_exporter": "python",
   "pygments_lexer": "ipython3",
   "version": "3.7.3"
  }
 },
 "nbformat": 4,
 "nbformat_minor": 2
}
